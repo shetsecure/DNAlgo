{
 "cells": [
  {
   "cell_type": "code",
   "execution_count": 3,
   "metadata": {},
   "outputs": [],
   "source": [
    "import os\n",
    "import time\n",
    "import seaborn as sns\n",
    "import numpy as np\n",
    "import pandas as pd\n",
    "import matplotlib.pyplot as plt"
   ]
  },
  {
   "cell_type": "code",
   "execution_count": 4,
   "metadata": {},
   "outputs": [],
   "source": [
    "x = [10, 10, 10, 12, 12, 12, 14, 14, 13, 13, 13, 14, 15, 15, 15, 20, 20, 20, 50, 50, 50, 100, 100, 100, 500, 500,\n",
    "     500, 1000, 1000, 1000, 2000, 2000, 2000, 3000, 3000, 3000, 3000, 5000, 5000, 5000, 8000, 8000, 8000, 10000, \n",
    "     10000, 10000, 15000, 15000, 15000, 20000, 20000, 20000]\n",
    "\n",
    "y = [2.42442000e-04, 2.59641000e-04, 2.73477001e-04, 2.82788999e-04, 2.72511000e-04, 3.34392000e-04,\n",
    "     3.35448000e-04, 3.29251000e-04, 3.55400000e-04, 3.52508000e-04, 3.54787000e-04, 3.72141000e-04,\n",
    "     3.97098000e-04, 4.19190000e-04, 4.36753000e-04, 6.07255000e-04, 6.45901000e-04, 6.73536000e-04,\n",
    "     3.46088800e-03, 4.06484000e-03, 3.70497400e-03, 1.42201290e-02, 1.39382500e-02, 1.42802470e-02,\n",
    "     3.35279101e-01, 3.40241623e-01, 3.44218870e-01, 1.49657876e+00, 1.43353197e+00, 1.48890826e+00,\n",
    "     5.49367414e+00, 5.45882790e+00, 5.45481956e+00, 1.21578574e+01, 1.22822031e+01, 1.26503555e+01,\n",
    "     1.23393549e+01, 3.37361266e+01, 3.41511317e+01, 3.44987748e+01, 9.28826464e+01, 8.82364701e+01,\n",
    "     9.01642306e+01, 1.42575947e+02, 1.40702232e+02, 1.40503014e+02, 3.16584916e+02, 3.22833885e+02,\n",
    "     3.14054201e+02, 5.82822467e+02, 5.48936049e+02, 5.54038225e+02]\n",
    "\n",
    "y_dist2 = [1.14716000e-04, 9.24209999e-05, 1.26101000e-04, 1.28997999e-04, 1.05674000e-04, 1.06045001e-04,\n",
    "           1.16309002e-04, 1.07213000e-04, 1.19230001e-04, 1.19790999e-04, 1.17524000e-04, 1.27933999e-04,\n",
    "           1.32718000e-04, 1.40407999e-04, 1.95949000e-04, 2.34704999e-04, 2.69116998e-04, 2.56468000e-04,\n",
    "           1.10712700e-03, 1.19355700e-03, 1.21447100e-03, 4.82038100e-03, 4.88564900e-03, 4.83273900e-03,\n",
    "           1.25124359e-01, 1.26447537e-01, 1.27613615e-01, 5.20778169e-01, 5.17104562e-01, 5.20962803e-01,\n",
    "           2.06691681e+00, 2.08786947e+00, 2.08952958e+00, 4.68767894e+00, 4.86711237e+00, 4.76108642e+00,\n",
    "           5.00240178e+00, 1.54682242e+01, 1.50656577e+01, 1.41379107e+01, 3.51408794e+01, 3.60430033e+01,\n",
    "           3.91080388e+01, 5.49303819e+01, 6.31077902e+01, 5.84781849e+01, 1.39953328e+02, 1.33779537e+02,\n",
    "           1.34543865e+02, 2.43349670e+02, 2.40852602e+02, 2.40445654e+02]"
   ]
  },
  {
   "cell_type": "code",
   "execution_count": 5,
   "metadata": {},
   "outputs": [],
   "source": [
    "from pylab import rcParams\n",
    "rcParams['figure.figsize'] = 10, 10"
   ]
  },
  {
   "cell_type": "code",
   "execution_count": 7,
   "metadata": {},
   "outputs": [
    {
     "ename": "SyntaxError",
     "evalue": "invalid syntax (<ipython-input-7-7ef453236740>, line 5)",
     "output_type": "error",
     "traceback": [
      "\u001b[0;36m  File \u001b[0;32m\"<ipython-input-7-7ef453236740>\"\u001b[0;36m, line \u001b[0;32m5\u001b[0m\n\u001b[0;31m    d = {'|x|' : x, 'time (s)' : y}sns.lineplot(x='|x|', y='time (s)', data=data)\u001b[0m\n\u001b[0m                                     ^\u001b[0m\n\u001b[0;31mSyntaxError\u001b[0m\u001b[0;31m:\u001b[0m invalid syntax\n"
     ]
    }
   ],
   "source": [
    "x = np.array(x)\n",
    "y = np.array(y)\n",
    "y_dist2 = np.array(y_dist2)\n",
    "\n",
    "d = {'|x|' : x, 'time (s)' : y}\n",
    "data = pd.DataFrame(d)\n",
    "data2 = pd.DataFrame({'|x|' : x, 'time (s)' : y_dist2})\n",
    "    \n",
    "sns.set(style='darkgrid')\n",
    "sns.lineplot(x='|x|', y='time (s)', data=data)\n",
    "sns.lineplot(x='|x|', y='time (s)', data=data2)\n",
    "plt.title('PROG_DYN vs dist_2: courbe de consommation de temps CPU en fonction de la taille |x|')\n",
    "plt.savefig('test.png', dpi=300)\n",
    "plt.show()\n"
   ]
  }
 ],
 "metadata": {
  "kernelspec": {
   "display_name": "Python 3",
   "language": "python",
   "name": "python3"
  },
  "language_info": {
   "codemirror_mode": {
    "name": "ipython",
    "version": 3
   },
   "file_extension": ".py",
   "mimetype": "text/x-python",
   "name": "python",
   "nbconvert_exporter": "python",
   "pygments_lexer": "ipython3",
   "version": "3.7.4+"
  }
 },
 "nbformat": 4,
 "nbformat_minor": 2
}
